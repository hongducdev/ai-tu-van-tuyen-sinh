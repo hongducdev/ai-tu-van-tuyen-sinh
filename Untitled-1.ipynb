{
 "cells": [
  {
   "cell_type": "code",
   "execution_count": 16,
   "metadata": {},
   "outputs": [
    {
     "name": "stdout",
     "output_type": "stream",
     "text": [
      "Requirement already satisfied: g4f in c:\\users\\hongducdev\\appdata\\local\\programs\\python\\python312\\lib\\site-packages (0.3.2.2)\n",
      "Requirement already satisfied: requests in c:\\users\\hongducdev\\appdata\\local\\programs\\python\\python312\\lib\\site-packages (from g4f) (2.32.3)\n",
      "Requirement already satisfied: aiohttp in c:\\users\\hongducdev\\appdata\\local\\programs\\python\\python312\\lib\\site-packages (from g4f) (3.9.5)\n",
      "Requirement already satisfied: brotli in c:\\users\\hongducdev\\appdata\\local\\programs\\python\\python312\\lib\\site-packages (from g4f) (1.1.0)\n",
      "Requirement already satisfied: pycryptodome in c:\\users\\hongducdev\\appdata\\local\\programs\\python\\python312\\lib\\site-packages (from g4f) (3.20.0)\n",
      "Requirement already satisfied: aiosignal>=1.1.2 in c:\\users\\hongducdev\\appdata\\local\\programs\\python\\python312\\lib\\site-packages (from aiohttp->g4f) (1.3.1)\n",
      "Requirement already satisfied: attrs>=17.3.0 in c:\\users\\hongducdev\\appdata\\local\\programs\\python\\python312\\lib\\site-packages (from aiohttp->g4f) (23.2.0)\n",
      "Requirement already satisfied: frozenlist>=1.1.1 in c:\\users\\hongducdev\\appdata\\local\\programs\\python\\python312\\lib\\site-packages (from aiohttp->g4f) (1.4.1)\n",
      "Requirement already satisfied: multidict<7.0,>=4.5 in c:\\users\\hongducdev\\appdata\\local\\programs\\python\\python312\\lib\\site-packages (from aiohttp->g4f) (6.0.5)\n",
      "Requirement already satisfied: yarl<2.0,>=1.0 in c:\\users\\hongducdev\\appdata\\local\\programs\\python\\python312\\lib\\site-packages (from aiohttp->g4f) (1.9.4)\n",
      "Requirement already satisfied: charset-normalizer<4,>=2 in c:\\users\\hongducdev\\appdata\\local\\programs\\python\\python312\\lib\\site-packages (from requests->g4f) (3.3.2)\n",
      "Requirement already satisfied: idna<4,>=2.5 in c:\\users\\hongducdev\\appdata\\local\\programs\\python\\python312\\lib\\site-packages (from requests->g4f) (3.7)\n",
      "Requirement already satisfied: urllib3<3,>=1.21.1 in c:\\users\\hongducdev\\appdata\\local\\programs\\python\\python312\\lib\\site-packages (from requests->g4f) (2.2.2)\n",
      "Requirement already satisfied: certifi>=2017.4.17 in c:\\users\\hongducdev\\appdata\\local\\programs\\python\\python312\\lib\\site-packages (from requests->g4f) (2024.7.4)\n",
      "Note: you may need to restart the kernel to use updated packages.\n"
     ]
    },
    {
     "name": "stderr",
     "output_type": "stream",
     "text": [
      "\n",
      "[notice] A new release of pip is available: 24.0 -> 24.1.2\n",
      "[notice] To update, run: python.exe -m pip install --upgrade pip\n"
     ]
    },
    {
     "name": "stdout",
     "output_type": "stream",
     "text": [
      "Requirement already satisfied: curl_cffi in c:\\users\\hongducdev\\appdata\\local\\programs\\python\\python312\\lib\\site-packages (0.7.1)\n",
      "Requirement already satisfied: cffi>=1.12.0 in c:\\users\\hongducdev\\appdata\\local\\programs\\python\\python312\\lib\\site-packages (from curl_cffi) (1.16.0)\n",
      "Requirement already satisfied: certifi>=2024.2.2 in c:\\users\\hongducdev\\appdata\\local\\programs\\python\\python312\\lib\\site-packages (from curl_cffi) (2024.7.4)\n",
      "Requirement already satisfied: pycparser in c:\\users\\hongducdev\\appdata\\local\\programs\\python\\python312\\lib\\site-packages (from cffi>=1.12.0->curl_cffi) (2.22)\n",
      "Note: you may need to restart the kernel to use updated packages.\n"
     ]
    },
    {
     "name": "stderr",
     "output_type": "stream",
     "text": [
      "\n",
      "[notice] A new release of pip is available: 24.0 -> 24.1.2\n",
      "[notice] To update, run: python.exe -m pip install --upgrade pip\n"
     ]
    }
   ],
   "source": [
    "%pip install -U g4f\n",
    "%pip install -U curl_cffi"
   ]
  },
  {
   "cell_type": "code",
   "execution_count": 18,
   "metadata": {},
   "outputs": [
    {
     "name": "stdout",
     "output_type": "stream",
     "text": [
      "Theo thông tin tuyển sinh đại học chính quy năm 2024 của Trường Đại học Công nghệ Thông tin và Truyền thông, trước khi nhập học, thí sinh cần làm hai việc sau:\n",
      "\n",
      "1. Xác nhận nhập học trên hệ thống của Bộ GD&ĐT trước ngày 27/08/2024.\n",
      "2. Làm hồ sơ sinh viên online trên hệ thống của trường và chuẩn bị hồ sơ để nộp khi nhập học theo hướng dẫn trong giấy báo trúng tuyển."
     ]
    }
   ],
   "source": [
    "from g4f.client import Client\n",
    "\n",
    "# Đọc nội dung từ hai file\n",
    "def read_file(file_name):\n",
    "    with open(file_name, 'r', encoding='utf-8') as file:\n",
    "        return file.read()\n",
    "\n",
    "file_content_1 = read_file('cau_hoi_thuong_gap.txt')\n",
    "file_content_2 = read_file('thong_tin_tuyen_sinh.txt')\n",
    "\n",
    "# Kết hợp nội dung của cả hai file\n",
    "combined_content = f\"Nội dung từ file câu hỏi thường gặp:\\n\\n{file_content_1}\\n\\nNội dung từ file thông tin tuyển sinh:\\n\\n{file_content_2}\"\n",
    "\n",
    "client = Client()\n",
    "\n",
    "# Kết hợp nội dung file vào prompt\n",
    "prompt = f\"Dựa trên dữ liệu sau đây:\\n\\n{combined_content}\\n\\nHãy trả lời câu hỏi: Cần làm gì trước khi nhập học?\"\n",
    "\n",
    "chat_completion = client.chat.completions.create(\n",
    "    model=\"gpt-3.5-turbo\",\n",
    "    messages=[{\"role\": \"user\", \"content\": prompt}],\n",
    "    stream=True\n",
    ")\n",
    "\n",
    "for completion in chat_completion:\n",
    "    print(completion.choices[0].delta.content or \"\", end=\"\", flush=True)"
   ]
  }
 ],
 "metadata": {
  "kernelspec": {
   "display_name": "Python 3",
   "language": "python",
   "name": "python3"
  },
  "language_info": {
   "codemirror_mode": {
    "name": "ipython",
    "version": 3
   },
   "file_extension": ".py",
   "mimetype": "text/x-python",
   "name": "python",
   "nbconvert_exporter": "python",
   "pygments_lexer": "ipython3",
   "version": "3.12.4"
  }
 },
 "nbformat": 4,
 "nbformat_minor": 2
}
